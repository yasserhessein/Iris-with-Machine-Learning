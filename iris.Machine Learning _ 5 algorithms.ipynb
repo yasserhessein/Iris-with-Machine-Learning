{
 "cells": [
  {
   "cell_type": "markdown",
   "metadata": {},
   "source": [
    "# The Dataset \n",
    "## https://archive.ics.uci.edu/ml/datasets/iris\n"
   ]
  },
  {
   "cell_type": "code",
   "execution_count": 68,
   "metadata": {},
   "outputs": [],
   "source": [
    "#Import Lib\n",
    "import numpy as np\n",
    "import seaborn as sns #vizualization\n",
    "import matplotlib.pyplot as plt\n",
    "import pandas as pd"
   ]
  },
  {
   "cell_type": "code",
   "execution_count": 5,
   "metadata": {},
   "outputs": [],
   "source": [
    "# Read the CSV \n",
    "df = pd.read_csv('iris.data.csv')\n",
    "x= df.iloc[: , [1,2,3,4]].values\n"
   ]
  },
  {
   "cell_type": "code",
   "execution_count": 7,
   "metadata": {},
   "outputs": [
    {
     "name": "stdout",
     "output_type": "stream",
     "text": [
      "[[3.0 1.4 0.2 'Iris-setosa']\n",
      " [3.2 1.3 0.2 'Iris-setosa']\n",
      " [3.1 1.5 0.2 'Iris-setosa']\n",
      " [3.6 1.4 0.2 'Iris-setosa']\n",
      " [3.9 1.7 0.4 'Iris-setosa']\n",
      " [3.4 1.4 0.3 'Iris-setosa']\n",
      " [3.4 1.5 0.2 'Iris-setosa']\n",
      " [2.9 1.4 0.2 'Iris-setosa']\n",
      " [3.1 1.5 0.1 'Iris-setosa']\n",
      " [3.7 1.5 0.2 'Iris-setosa']\n",
      " [3.4 1.6 0.2 'Iris-setosa']\n",
      " [3.0 1.4 0.1 'Iris-setosa']\n",
      " [3.0 1.1 0.1 'Iris-setosa']\n",
      " [4.0 1.2 0.2 'Iris-setosa']\n",
      " [4.4 1.5 0.4 'Iris-setosa']\n",
      " [3.9 1.3 0.4 'Iris-setosa']\n",
      " [3.5 1.4 0.3 'Iris-setosa']\n",
      " [3.8 1.7 0.3 'Iris-setosa']\n",
      " [3.8 1.5 0.3 'Iris-setosa']\n",
      " [3.4 1.7 0.2 'Iris-setosa']\n",
      " [3.7 1.5 0.4 'Iris-setosa']\n",
      " [3.6 1.0 0.2 'Iris-setosa']\n",
      " [3.3 1.7 0.5 'Iris-setosa']\n",
      " [3.4 1.9 0.2 'Iris-setosa']\n",
      " [3.0 1.6 0.2 'Iris-setosa']\n",
      " [3.4 1.6 0.4 'Iris-setosa']\n",
      " [3.5 1.5 0.2 'Iris-setosa']\n",
      " [3.4 1.4 0.2 'Iris-setosa']\n",
      " [3.2 1.6 0.2 'Iris-setosa']\n",
      " [3.1 1.6 0.2 'Iris-setosa']\n",
      " [3.4 1.5 0.4 'Iris-setosa']\n",
      " [4.1 1.5 0.1 'Iris-setosa']\n",
      " [4.2 1.4 0.2 'Iris-setosa']\n",
      " [3.1 1.5 0.1 'Iris-setosa']\n",
      " [3.2 1.2 0.2 'Iris-setosa']\n",
      " [3.5 1.3 0.2 'Iris-setosa']\n",
      " [3.1 1.5 0.1 'Iris-setosa']\n",
      " [3.0 1.3 0.2 'Iris-setosa']\n",
      " [3.4 1.5 0.2 'Iris-setosa']\n",
      " [3.5 1.3 0.3 'Iris-setosa']\n",
      " [2.3 1.3 0.3 'Iris-setosa']\n",
      " [3.2 1.3 0.2 'Iris-setosa']\n",
      " [3.5 1.6 0.6 'Iris-setosa']\n",
      " [3.8 1.9 0.4 'Iris-setosa']\n",
      " [3.0 1.4 0.3 'Iris-setosa']\n",
      " [3.8 1.6 0.2 'Iris-setosa']\n",
      " [3.2 1.4 0.2 'Iris-setosa']\n",
      " [3.7 1.5 0.2 'Iris-setosa']\n",
      " [3.3 1.4 0.2 'Iris-setosa']\n",
      " [3.2 4.7 1.4 'Iris-versicolor']\n",
      " [3.2 4.5 1.5 'Iris-versicolor']\n",
      " [3.1 4.9 1.5 'Iris-versicolor']\n",
      " [2.3 4.0 1.3 'Iris-versicolor']\n",
      " [2.8 4.6 1.5 'Iris-versicolor']\n",
      " [2.8 4.5 1.3 'Iris-versicolor']\n",
      " [3.3 4.7 1.6 'Iris-versicolor']\n",
      " [2.4 3.3 1.0 'Iris-versicolor']\n",
      " [2.9 4.6 1.3 'Iris-versicolor']\n",
      " [2.7 3.9 1.4 'Iris-versicolor']\n",
      " [2.0 3.5 1.0 'Iris-versicolor']\n",
      " [3.0 4.2 1.5 'Iris-versicolor']\n",
      " [2.2 4.0 1.0 'Iris-versicolor']\n",
      " [2.9 4.7 1.4 'Iris-versicolor']\n",
      " [2.9 3.6 1.3 'Iris-versicolor']\n",
      " [3.1 4.4 1.4 'Iris-versicolor']\n",
      " [3.0 4.5 1.5 'Iris-versicolor']\n",
      " [2.7 4.1 1.0 'Iris-versicolor']\n",
      " [2.2 4.5 1.5 'Iris-versicolor']\n",
      " [2.5 3.9 1.1 'Iris-versicolor']\n",
      " [3.2 4.8 1.8 'Iris-versicolor']\n",
      " [2.8 4.0 1.3 'Iris-versicolor']\n",
      " [2.5 4.9 1.5 'Iris-versicolor']\n",
      " [2.8 4.7 1.2 'Iris-versicolor']\n",
      " [2.9 4.3 1.3 'Iris-versicolor']\n",
      " [3.0 4.4 1.4 'Iris-versicolor']\n",
      " [2.8 4.8 1.4 'Iris-versicolor']\n",
      " [3.0 5.0 1.7 'Iris-versicolor']\n",
      " [2.9 4.5 1.5 'Iris-versicolor']\n",
      " [2.6 3.5 1.0 'Iris-versicolor']\n",
      " [2.4 3.8 1.1 'Iris-versicolor']\n",
      " [2.4 3.7 1.0 'Iris-versicolor']\n",
      " [2.7 3.9 1.2 'Iris-versicolor']\n",
      " [2.7 5.1 1.6 'Iris-versicolor']\n",
      " [3.0 4.5 1.5 'Iris-versicolor']\n",
      " [3.4 4.5 1.6 'Iris-versicolor']\n",
      " [3.1 4.7 1.5 'Iris-versicolor']\n",
      " [2.3 4.4 1.3 'Iris-versicolor']\n",
      " [3.0 4.1 1.3 'Iris-versicolor']\n",
      " [2.5 4.0 1.3 'Iris-versicolor']\n",
      " [2.6 4.4 1.2 'Iris-versicolor']\n",
      " [3.0 4.6 1.4 'Iris-versicolor']\n",
      " [2.6 4.0 1.2 'Iris-versicolor']\n",
      " [2.3 3.3 1.0 'Iris-versicolor']\n",
      " [2.7 4.2 1.3 'Iris-versicolor']\n",
      " [3.0 4.2 1.2 'Iris-versicolor']\n",
      " [2.9 4.2 1.3 'Iris-versicolor']\n",
      " [2.9 4.3 1.3 'Iris-versicolor']\n",
      " [2.5 3.0 1.1 'Iris-versicolor']\n",
      " [2.8 4.1 1.3 'Iris-versicolor']\n",
      " [3.3 6.0 2.5 'Iris-virginica']\n",
      " [2.7 5.1 1.9 'Iris-virginica']\n",
      " [3.0 5.9 2.1 'Iris-virginica']\n",
      " [2.9 5.6 1.8 'Iris-virginica']\n",
      " [3.0 5.8 2.2 'Iris-virginica']\n",
      " [3.0 6.6 2.1 'Iris-virginica']\n",
      " [2.5 4.5 1.7 'Iris-virginica']\n",
      " [2.9 6.3 1.8 'Iris-virginica']\n",
      " [2.5 5.8 1.8 'Iris-virginica']\n",
      " [3.6 6.1 2.5 'Iris-virginica']\n",
      " [3.2 5.1 2.0 'Iris-virginica']\n",
      " [2.7 5.3 1.9 'Iris-virginica']\n",
      " [3.0 5.5 2.1 'Iris-virginica']\n",
      " [2.5 5.0 2.0 'Iris-virginica']\n",
      " [2.8 5.1 2.4 'Iris-virginica']\n",
      " [3.2 5.3 2.3 'Iris-virginica']\n",
      " [3.0 5.5 1.8 'Iris-virginica']\n",
      " [3.8 6.7 2.2 'Iris-virginica']\n",
      " [2.6 6.9 2.3 'Iris-virginica']\n",
      " [2.2 5.0 1.5 'Iris-virginica']\n",
      " [3.2 5.7 2.3 'Iris-virginica']\n",
      " [2.8 4.9 2.0 'Iris-virginica']\n",
      " [2.8 6.7 2.0 'Iris-virginica']\n",
      " [2.7 4.9 1.8 'Iris-virginica']\n",
      " [3.3 5.7 2.1 'Iris-virginica']\n",
      " [3.2 6.0 1.8 'Iris-virginica']\n",
      " [2.8 4.8 1.8 'Iris-virginica']\n",
      " [3.0 4.9 1.8 'Iris-virginica']\n",
      " [2.8 5.6 2.1 'Iris-virginica']\n",
      " [3.0 5.8 1.6 'Iris-virginica']\n",
      " [2.8 6.1 1.9 'Iris-virginica']\n",
      " [3.8 6.4 2.0 'Iris-virginica']\n",
      " [2.8 5.6 2.2 'Iris-virginica']\n",
      " [2.8 5.1 1.5 'Iris-virginica']\n",
      " [2.6 5.6 1.4 'Iris-virginica']\n",
      " [3.0 6.1 2.3 'Iris-virginica']\n",
      " [3.4 5.6 2.4 'Iris-virginica']\n",
      " [3.1 5.5 1.8 'Iris-virginica']\n",
      " [3.0 4.8 1.8 'Iris-virginica']\n",
      " [3.1 5.4 2.1 'Iris-virginica']\n",
      " [3.1 5.6 2.4 'Iris-virginica']\n",
      " [3.1 5.1 2.3 'Iris-virginica']\n",
      " [2.7 5.1 1.9 'Iris-virginica']\n",
      " [3.2 5.9 2.3 'Iris-virginica']\n",
      " [3.3 5.7 2.5 'Iris-virginica']\n",
      " [3.0 5.2 2.3 'Iris-virginica']\n",
      " [2.5 5.0 1.9 'Iris-virginica']\n",
      " [3.0 5.2 2.0 'Iris-virginica']\n",
      " [3.4 5.4 2.3 'Iris-virginica']\n",
      " [3.0 5.1 1.8 'Iris-virginica']]\n"
     ]
    }
   ],
   "source": [
    "print(x)"
   ]
  },
  {
   "cell_type": "code",
   "execution_count": 73,
   "metadata": {},
   "outputs": [
    {
     "data": {
      "text/html": [
       "<div>\n",
       "<style scoped>\n",
       "    .dataframe tbody tr th:only-of-type {\n",
       "        vertical-align: middle;\n",
       "    }\n",
       "\n",
       "    .dataframe tbody tr th {\n",
       "        vertical-align: top;\n",
       "    }\n",
       "\n",
       "    .dataframe thead th {\n",
       "        text-align: right;\n",
       "    }\n",
       "</style>\n",
       "<table border=\"1\" class=\"dataframe\">\n",
       "  <thead>\n",
       "    <tr style=\"text-align: right;\">\n",
       "      <th></th>\n",
       "      <th>0</th>\n",
       "      <th>1</th>\n",
       "      <th>2</th>\n",
       "      <th>3</th>\n",
       "      <th>4</th>\n",
       "    </tr>\n",
       "  </thead>\n",
       "  <tbody>\n",
       "    <tr>\n",
       "      <th>0</th>\n",
       "      <td>5.1</td>\n",
       "      <td>3.5</td>\n",
       "      <td>1.4</td>\n",
       "      <td>0.2</td>\n",
       "      <td>Iris-setosa</td>\n",
       "    </tr>\n",
       "    <tr>\n",
       "      <th>1</th>\n",
       "      <td>4.9</td>\n",
       "      <td>3.0</td>\n",
       "      <td>1.4</td>\n",
       "      <td>0.2</td>\n",
       "      <td>Iris-setosa</td>\n",
       "    </tr>\n",
       "    <tr>\n",
       "      <th>2</th>\n",
       "      <td>4.7</td>\n",
       "      <td>3.2</td>\n",
       "      <td>1.3</td>\n",
       "      <td>0.2</td>\n",
       "      <td>Iris-setosa</td>\n",
       "    </tr>\n",
       "    <tr>\n",
       "      <th>3</th>\n",
       "      <td>4.6</td>\n",
       "      <td>3.1</td>\n",
       "      <td>1.5</td>\n",
       "      <td>0.2</td>\n",
       "      <td>Iris-setosa</td>\n",
       "    </tr>\n",
       "    <tr>\n",
       "      <th>4</th>\n",
       "      <td>5.0</td>\n",
       "      <td>3.6</td>\n",
       "      <td>1.4</td>\n",
       "      <td>0.2</td>\n",
       "      <td>Iris-setosa</td>\n",
       "    </tr>\n",
       "  </tbody>\n",
       "</table>\n",
       "</div>"
      ],
      "text/plain": [
       "     0    1    2    3            4\n",
       "0  5.1  3.5  1.4  0.2  Iris-setosa\n",
       "1  4.9  3.0  1.4  0.2  Iris-setosa\n",
       "2  4.7  3.2  1.3  0.2  Iris-setosa\n",
       "3  4.6  3.1  1.5  0.2  Iris-setosa\n",
       "4  5.0  3.6  1.4  0.2  Iris-setosa"
      ]
     },
     "execution_count": 73,
     "metadata": {},
     "output_type": "execute_result"
    }
   ],
   "source": [
    "# Read the CSV \n",
    "\n",
    "df1 = pd.read_csv('iris.data.csv', header=None)\n",
    "df1.head()"
   ]
  },
  {
   "cell_type": "code",
   "execution_count": 74,
   "metadata": {},
   "outputs": [
    {
     "data": {
      "text/html": [
       "<div>\n",
       "<style scoped>\n",
       "    .dataframe tbody tr th:only-of-type {\n",
       "        vertical-align: middle;\n",
       "    }\n",
       "\n",
       "    .dataframe tbody tr th {\n",
       "        vertical-align: top;\n",
       "    }\n",
       "\n",
       "    .dataframe thead th {\n",
       "        text-align: right;\n",
       "    }\n",
       "</style>\n",
       "<table border=\"1\" class=\"dataframe\">\n",
       "  <thead>\n",
       "    <tr style=\"text-align: right;\">\n",
       "      <th></th>\n",
       "      <th>0</th>\n",
       "      <th>1</th>\n",
       "      <th>2</th>\n",
       "      <th>3</th>\n",
       "    </tr>\n",
       "  </thead>\n",
       "  <tbody>\n",
       "    <tr>\n",
       "      <th>count</th>\n",
       "      <td>150.000000</td>\n",
       "      <td>150.000000</td>\n",
       "      <td>150.000000</td>\n",
       "      <td>150.000000</td>\n",
       "    </tr>\n",
       "    <tr>\n",
       "      <th>mean</th>\n",
       "      <td>5.843333</td>\n",
       "      <td>3.054000</td>\n",
       "      <td>3.758667</td>\n",
       "      <td>1.198667</td>\n",
       "    </tr>\n",
       "    <tr>\n",
       "      <th>std</th>\n",
       "      <td>0.828066</td>\n",
       "      <td>0.433594</td>\n",
       "      <td>1.764420</td>\n",
       "      <td>0.763161</td>\n",
       "    </tr>\n",
       "    <tr>\n",
       "      <th>min</th>\n",
       "      <td>4.300000</td>\n",
       "      <td>2.000000</td>\n",
       "      <td>1.000000</td>\n",
       "      <td>0.100000</td>\n",
       "    </tr>\n",
       "    <tr>\n",
       "      <th>25%</th>\n",
       "      <td>5.100000</td>\n",
       "      <td>2.800000</td>\n",
       "      <td>1.600000</td>\n",
       "      <td>0.300000</td>\n",
       "    </tr>\n",
       "    <tr>\n",
       "      <th>50%</th>\n",
       "      <td>5.800000</td>\n",
       "      <td>3.000000</td>\n",
       "      <td>4.350000</td>\n",
       "      <td>1.300000</td>\n",
       "    </tr>\n",
       "    <tr>\n",
       "      <th>75%</th>\n",
       "      <td>6.400000</td>\n",
       "      <td>3.300000</td>\n",
       "      <td>5.100000</td>\n",
       "      <td>1.800000</td>\n",
       "    </tr>\n",
       "    <tr>\n",
       "      <th>max</th>\n",
       "      <td>7.900000</td>\n",
       "      <td>4.400000</td>\n",
       "      <td>6.900000</td>\n",
       "      <td>2.500000</td>\n",
       "    </tr>\n",
       "  </tbody>\n",
       "</table>\n",
       "</div>"
      ],
      "text/plain": [
       "                0           1           2           3\n",
       "count  150.000000  150.000000  150.000000  150.000000\n",
       "mean     5.843333    3.054000    3.758667    1.198667\n",
       "std      0.828066    0.433594    1.764420    0.763161\n",
       "min      4.300000    2.000000    1.000000    0.100000\n",
       "25%      5.100000    2.800000    1.600000    0.300000\n",
       "50%      5.800000    3.000000    4.350000    1.300000\n",
       "75%      6.400000    3.300000    5.100000    1.800000\n",
       "max      7.900000    4.400000    6.900000    2.500000"
      ]
     },
     "execution_count": 74,
     "metadata": {},
     "output_type": "execute_result"
    }
   ],
   "source": [
    "df1.describe()"
   ]
  },
  {
   "cell_type": "code",
   "execution_count": 75,
   "metadata": {},
   "outputs": [
    {
     "name": "stdout",
     "output_type": "stream",
     "text": [
      "<class 'pandas.core.frame.DataFrame'>\n",
      "RangeIndex: 150 entries, 0 to 149\n",
      "Data columns (total 5 columns):\n",
      " #   Column  Non-Null Count  Dtype  \n",
      "---  ------  --------------  -----  \n",
      " 0   0       150 non-null    float64\n",
      " 1   1       150 non-null    float64\n",
      " 2   2       150 non-null    float64\n",
      " 3   3       150 non-null    float64\n",
      " 4   4       150 non-null    object \n",
      "dtypes: float64(4), object(1)\n",
      "memory usage: 6.0+ KB\n"
     ]
    }
   ],
   "source": [
    "df1.info()"
   ]
  },
  {
   "cell_type": "code",
   "execution_count": 76,
   "metadata": {},
   "outputs": [
    {
     "data": {
      "text/html": [
       "<div>\n",
       "<style scoped>\n",
       "    .dataframe tbody tr th:only-of-type {\n",
       "        vertical-align: middle;\n",
       "    }\n",
       "\n",
       "    .dataframe tbody tr th {\n",
       "        vertical-align: top;\n",
       "    }\n",
       "\n",
       "    .dataframe thead th {\n",
       "        text-align: right;\n",
       "    }\n",
       "</style>\n",
       "<table border=\"1\" class=\"dataframe\">\n",
       "  <thead>\n",
       "    <tr style=\"text-align: right;\">\n",
       "      <th></th>\n",
       "      <th>0</th>\n",
       "      <th>1</th>\n",
       "      <th>2</th>\n",
       "      <th>3</th>\n",
       "      <th>4</th>\n",
       "    </tr>\n",
       "  </thead>\n",
       "  <tbody>\n",
       "    <tr>\n",
       "      <th>145</th>\n",
       "      <td>6.7</td>\n",
       "      <td>3.0</td>\n",
       "      <td>5.2</td>\n",
       "      <td>2.3</td>\n",
       "      <td>Iris-virginica</td>\n",
       "    </tr>\n",
       "    <tr>\n",
       "      <th>146</th>\n",
       "      <td>6.3</td>\n",
       "      <td>2.5</td>\n",
       "      <td>5.0</td>\n",
       "      <td>1.9</td>\n",
       "      <td>Iris-virginica</td>\n",
       "    </tr>\n",
       "    <tr>\n",
       "      <th>147</th>\n",
       "      <td>6.5</td>\n",
       "      <td>3.0</td>\n",
       "      <td>5.2</td>\n",
       "      <td>2.0</td>\n",
       "      <td>Iris-virginica</td>\n",
       "    </tr>\n",
       "    <tr>\n",
       "      <th>148</th>\n",
       "      <td>6.2</td>\n",
       "      <td>3.4</td>\n",
       "      <td>5.4</td>\n",
       "      <td>2.3</td>\n",
       "      <td>Iris-virginica</td>\n",
       "    </tr>\n",
       "    <tr>\n",
       "      <th>149</th>\n",
       "      <td>5.9</td>\n",
       "      <td>3.0</td>\n",
       "      <td>5.1</td>\n",
       "      <td>1.8</td>\n",
       "      <td>Iris-virginica</td>\n",
       "    </tr>\n",
       "  </tbody>\n",
       "</table>\n",
       "</div>"
      ],
      "text/plain": [
       "       0    1    2    3               4\n",
       "145  6.7  3.0  5.2  2.3  Iris-virginica\n",
       "146  6.3  2.5  5.0  1.9  Iris-virginica\n",
       "147  6.5  3.0  5.2  2.0  Iris-virginica\n",
       "148  6.2  3.4  5.4  2.3  Iris-virginica\n",
       "149  5.9  3.0  5.1  1.8  Iris-virginica"
      ]
     },
     "execution_count": 76,
     "metadata": {},
     "output_type": "execute_result"
    }
   ],
   "source": [
    "df1.tail()"
   ]
  },
  {
   "cell_type": "code",
   "execution_count": 77,
   "metadata": {},
   "outputs": [],
   "source": [
    "y = df.iloc[:,4].values"
   ]
  },
  {
   "cell_type": "code",
   "execution_count": 78,
   "metadata": {},
   "outputs": [
    {
     "name": "stdout",
     "output_type": "stream",
     "text": [
      "['Iris-setosa' 'Iris-setosa' 'Iris-setosa' 'Iris-setosa' 'Iris-setosa'\n",
      " 'Iris-setosa' 'Iris-setosa' 'Iris-setosa' 'Iris-setosa' 'Iris-setosa'\n",
      " 'Iris-setosa' 'Iris-setosa' 'Iris-setosa' 'Iris-setosa' 'Iris-setosa'\n",
      " 'Iris-setosa' 'Iris-setosa' 'Iris-setosa' 'Iris-setosa' 'Iris-setosa'\n",
      " 'Iris-setosa' 'Iris-setosa' 'Iris-setosa' 'Iris-setosa' 'Iris-setosa'\n",
      " 'Iris-setosa' 'Iris-setosa' 'Iris-setosa' 'Iris-setosa' 'Iris-setosa'\n",
      " 'Iris-setosa' 'Iris-setosa' 'Iris-setosa' 'Iris-setosa' 'Iris-setosa'\n",
      " 'Iris-setosa' 'Iris-setosa' 'Iris-setosa' 'Iris-setosa' 'Iris-setosa'\n",
      " 'Iris-setosa' 'Iris-setosa' 'Iris-setosa' 'Iris-setosa' 'Iris-setosa'\n",
      " 'Iris-setosa' 'Iris-setosa' 'Iris-setosa' 'Iris-setosa' 'Iris-versicolor'\n",
      " 'Iris-versicolor' 'Iris-versicolor' 'Iris-versicolor' 'Iris-versicolor'\n",
      " 'Iris-versicolor' 'Iris-versicolor' 'Iris-versicolor' 'Iris-versicolor'\n",
      " 'Iris-versicolor' 'Iris-versicolor' 'Iris-versicolor' 'Iris-versicolor'\n",
      " 'Iris-versicolor' 'Iris-versicolor' 'Iris-versicolor' 'Iris-versicolor'\n",
      " 'Iris-versicolor' 'Iris-versicolor' 'Iris-versicolor' 'Iris-versicolor'\n",
      " 'Iris-versicolor' 'Iris-versicolor' 'Iris-versicolor' 'Iris-versicolor'\n",
      " 'Iris-versicolor' 'Iris-versicolor' 'Iris-versicolor' 'Iris-versicolor'\n",
      " 'Iris-versicolor' 'Iris-versicolor' 'Iris-versicolor' 'Iris-versicolor'\n",
      " 'Iris-versicolor' 'Iris-versicolor' 'Iris-versicolor' 'Iris-versicolor'\n",
      " 'Iris-versicolor' 'Iris-versicolor' 'Iris-versicolor' 'Iris-versicolor'\n",
      " 'Iris-versicolor' 'Iris-versicolor' 'Iris-versicolor' 'Iris-versicolor'\n",
      " 'Iris-versicolor' 'Iris-versicolor' 'Iris-versicolor' 'Iris-versicolor'\n",
      " 'Iris-versicolor' 'Iris-virginica' 'Iris-virginica' 'Iris-virginica'\n",
      " 'Iris-virginica' 'Iris-virginica' 'Iris-virginica' 'Iris-virginica'\n",
      " 'Iris-virginica' 'Iris-virginica' 'Iris-virginica' 'Iris-virginica'\n",
      " 'Iris-virginica' 'Iris-virginica' 'Iris-virginica' 'Iris-virginica'\n",
      " 'Iris-virginica' 'Iris-virginica' 'Iris-virginica' 'Iris-virginica'\n",
      " 'Iris-virginica' 'Iris-virginica' 'Iris-virginica' 'Iris-virginica'\n",
      " 'Iris-virginica' 'Iris-virginica' 'Iris-virginica' 'Iris-virginica'\n",
      " 'Iris-virginica' 'Iris-virginica' 'Iris-virginica' 'Iris-virginica'\n",
      " 'Iris-virginica' 'Iris-virginica' 'Iris-virginica' 'Iris-virginica'\n",
      " 'Iris-virginica' 'Iris-virginica' 'Iris-virginica' 'Iris-virginica'\n",
      " 'Iris-virginica' 'Iris-virginica' 'Iris-virginica' 'Iris-virginica'\n",
      " 'Iris-virginica' 'Iris-virginica' 'Iris-virginica' 'Iris-virginica'\n",
      " 'Iris-virginica' 'Iris-virginica' 'Iris-virginica']\n"
     ]
    }
   ],
   "source": [
    "print(y)"
   ]
  },
  {
   "cell_type": "code",
   "execution_count": 79,
   "metadata": {},
   "outputs": [
    {
     "data": {
      "text/plain": [
       "array(['Iris-setosa', 'Iris-versicolor', 'Iris-virginica'], dtype=object)"
      ]
     },
     "execution_count": 79,
     "metadata": {},
     "output_type": "execute_result"
    }
   ],
   "source": [
    "np.unique(y)"
   ]
  },
  {
   "cell_type": "code",
   "execution_count": null,
   "metadata": {},
   "outputs": [],
   "source": []
  },
  {
   "cell_type": "code",
   "execution_count": 86,
   "metadata": {},
   "outputs": [
    {
     "data": {
      "image/png": "[encoded data removed]",
      "text/plain": [
       "<Figure size 720x720 with 20 Axes>"
      ]
     },
     "metadata": {
      "needs_background": "light"
     },
     "output_type": "display_data"
    }
   ],
   "source": [
    "sns.pairplot(data=df1[df1.columns[0:6]])\n",
    "plt.show()"
   ]
  },
  {
   "cell_type": "code",
   "execution_count": 88,
   "metadata": {},
   "outputs": [
    {
     "data": {
      "image/png": "[encoded data removed]",
      "text/plain": [
       "<Figure size 576x360 with 2 Axes>"
      ]
     },
     "metadata": {
      "needs_background": "light"
     },
     "output_type": "display_data"
    }
   ],
   "source": [
    "plt.figure(figsize=(8,5))\n",
    "sns.heatmap(df1.corr(),annot=True,cmap='cubehelix_r') \n",
    "plt.show()"
   ]
  },
  {
   "cell_type": "code",
   "execution_count": null,
   "metadata": {},
   "outputs": [],
   "source": []
  },
  {
   "cell_type": "code",
   "execution_count": 23,
   "metadata": {},
   "outputs": [],
   "source": [
    "from sklearn import preprocessing\n",
    "le = preprocessing.LabelEncoder()"
   ]
  },
  {
   "cell_type": "code",
   "execution_count": 24,
   "metadata": {},
   "outputs": [],
   "source": [
    "le = le.fit(y)"
   ]
  },
  {
   "cell_type": "code",
   "execution_count": 25,
   "metadata": {},
   "outputs": [],
   "source": [
    "le = le.fit(y)"
   ]
  },
  {
   "cell_type": "code",
   "execution_count": 27,
   "metadata": {},
   "outputs": [
    {
     "name": "stdout",
     "output_type": "stream",
     "text": [
      "['Iris-setosa' 'Iris-setosa' 'Iris-setosa' 'Iris-setosa' 'Iris-setosa'\n",
      " 'Iris-setosa' 'Iris-setosa' 'Iris-setosa' 'Iris-setosa' 'Iris-setosa'\n",
      " 'Iris-setosa' 'Iris-setosa' 'Iris-setosa' 'Iris-setosa' 'Iris-setosa'\n",
      " 'Iris-setosa' 'Iris-setosa' 'Iris-setosa' 'Iris-setosa' 'Iris-setosa'\n",
      " 'Iris-setosa' 'Iris-setosa' 'Iris-setosa' 'Iris-setosa' 'Iris-setosa'\n",
      " 'Iris-setosa' 'Iris-setosa' 'Iris-setosa' 'Iris-setosa' 'Iris-setosa'\n",
      " 'Iris-setosa' 'Iris-setosa' 'Iris-setosa' 'Iris-setosa' 'Iris-setosa'\n",
      " 'Iris-setosa' 'Iris-setosa' 'Iris-setosa' 'Iris-setosa' 'Iris-setosa'\n",
      " 'Iris-setosa' 'Iris-setosa' 'Iris-setosa' 'Iris-setosa' 'Iris-setosa'\n",
      " 'Iris-setosa' 'Iris-setosa' 'Iris-setosa' 'Iris-setosa' 'Iris-versicolor'\n",
      " 'Iris-versicolor' 'Iris-versicolor' 'Iris-versicolor' 'Iris-versicolor'\n",
      " 'Iris-versicolor' 'Iris-versicolor' 'Iris-versicolor' 'Iris-versicolor'\n",
      " 'Iris-versicolor' 'Iris-versicolor' 'Iris-versicolor' 'Iris-versicolor'\n",
      " 'Iris-versicolor' 'Iris-versicolor' 'Iris-versicolor' 'Iris-versicolor'\n",
      " 'Iris-versicolor' 'Iris-versicolor' 'Iris-versicolor' 'Iris-versicolor'\n",
      " 'Iris-versicolor' 'Iris-versicolor' 'Iris-versicolor' 'Iris-versicolor'\n",
      " 'Iris-versicolor' 'Iris-versicolor' 'Iris-versicolor' 'Iris-versicolor'\n",
      " 'Iris-versicolor' 'Iris-versicolor' 'Iris-versicolor' 'Iris-versicolor'\n",
      " 'Iris-versicolor' 'Iris-versicolor' 'Iris-versicolor' 'Iris-versicolor'\n",
      " 'Iris-versicolor' 'Iris-versicolor' 'Iris-versicolor' 'Iris-versicolor'\n",
      " 'Iris-versicolor' 'Iris-versicolor' 'Iris-versicolor' 'Iris-versicolor'\n",
      " 'Iris-versicolor' 'Iris-versicolor' 'Iris-versicolor' 'Iris-versicolor'\n",
      " 'Iris-versicolor' 'Iris-virginica' 'Iris-virginica' 'Iris-virginica'\n",
      " 'Iris-virginica' 'Iris-virginica' 'Iris-virginica' 'Iris-virginica'\n",
      " 'Iris-virginica' 'Iris-virginica' 'Iris-virginica' 'Iris-virginica'\n",
      " 'Iris-virginica' 'Iris-virginica' 'Iris-virginica' 'Iris-virginica'\n",
      " 'Iris-virginica' 'Iris-virginica' 'Iris-virginica' 'Iris-virginica'\n",
      " 'Iris-virginica' 'Iris-virginica' 'Iris-virginica' 'Iris-virginica'\n",
      " 'Iris-virginica' 'Iris-virginica' 'Iris-virginica' 'Iris-virginica'\n",
      " 'Iris-virginica' 'Iris-virginica' 'Iris-virginica' 'Iris-virginica'\n",
      " 'Iris-virginica' 'Iris-virginica' 'Iris-virginica' 'Iris-virginica'\n",
      " 'Iris-virginica' 'Iris-virginica' 'Iris-virginica' 'Iris-virginica'\n",
      " 'Iris-virginica' 'Iris-virginica' 'Iris-virginica' 'Iris-virginica'\n",
      " 'Iris-virginica' 'Iris-virginica' 'Iris-virginica' 'Iris-virginica'\n",
      " 'Iris-virginica' 'Iris-virginica' 'Iris-virginica']\n"
     ]
    }
   ],
   "source": [
    "print(y)"
   ]
  },
  {
   "cell_type": "code",
   "execution_count": 28,
   "metadata": {},
   "outputs": [
    {
     "data": {
      "text/plain": [
       "array(['Iris-setosa', 'Iris-versicolor', 'Iris-virginica'], dtype=object)"
      ]
     },
     "execution_count": 28,
     "metadata": {},
     "output_type": "execute_result"
    }
   ],
   "source": [
    "le.classes_"
   ]
  },
  {
   "cell_type": "code",
   "execution_count": 29,
   "metadata": {},
   "outputs": [
    {
     "name": "stdout",
     "output_type": "stream",
     "text": [
      "[[1.4 0.2]\n",
      " [1.3 0.2]\n",
      " [1.5 0.2]\n",
      " [1.4 0.2]\n",
      " [1.7 0.4]\n",
      " [1.4 0.3]\n",
      " [1.5 0.2]\n",
      " [1.4 0.2]\n",
      " [1.5 0.1]\n",
      " [1.5 0.2]\n",
      " [1.6 0.2]\n",
      " [1.4 0.1]\n",
      " [1.1 0.1]\n",
      " [1.2 0.2]\n",
      " [1.5 0.4]\n",
      " [1.3 0.4]\n",
      " [1.4 0.3]\n",
      " [1.7 0.3]\n",
      " [1.5 0.3]\n",
      " [1.7 0.2]\n",
      " [1.5 0.4]\n",
      " [1.  0.2]\n",
      " [1.7 0.5]\n",
      " [1.9 0.2]\n",
      " [1.6 0.2]\n",
      " [1.6 0.4]\n",
      " [1.5 0.2]\n",
      " [1.4 0.2]\n",
      " [1.6 0.2]\n",
      " [1.6 0.2]\n",
      " [1.5 0.4]\n",
      " [1.5 0.1]\n",
      " [1.4 0.2]\n",
      " [1.5 0.1]\n",
      " [1.2 0.2]\n",
      " [1.3 0.2]\n",
      " [1.5 0.1]\n",
      " [1.3 0.2]\n",
      " [1.5 0.2]\n",
      " [1.3 0.3]\n",
      " [1.3 0.3]\n",
      " [1.3 0.2]\n",
      " [1.6 0.6]\n",
      " [1.9 0.4]\n",
      " [1.4 0.3]\n",
      " [1.6 0.2]\n",
      " [1.4 0.2]\n",
      " [1.5 0.2]\n",
      " [1.4 0.2]\n",
      " [4.7 1.4]\n",
      " [4.5 1.5]\n",
      " [4.9 1.5]\n",
      " [4.  1.3]\n",
      " [4.6 1.5]\n",
      " [4.5 1.3]\n",
      " [4.7 1.6]\n",
      " [3.3 1. ]\n",
      " [4.6 1.3]\n",
      " [3.9 1.4]\n",
      " [3.5 1. ]\n",
      " [4.2 1.5]\n",
      " [4.  1. ]\n",
      " [4.7 1.4]\n",
      " [3.6 1.3]\n",
      " [4.4 1.4]\n",
      " [4.5 1.5]\n",
      " [4.1 1. ]\n",
      " [4.5 1.5]\n",
      " [3.9 1.1]\n",
      " [4.8 1.8]\n",
      " [4.  1.3]\n",
      " [4.9 1.5]\n",
      " [4.7 1.2]\n",
      " [4.3 1.3]\n",
      " [4.4 1.4]\n",
      " [4.8 1.4]\n",
      " [5.  1.7]\n",
      " [4.5 1.5]\n",
      " [3.5 1. ]\n",
      " [3.8 1.1]\n",
      " [3.7 1. ]\n",
      " [3.9 1.2]\n",
      " [5.1 1.6]\n",
      " [4.5 1.5]\n",
      " [4.5 1.6]\n",
      " [4.7 1.5]\n",
      " [4.4 1.3]\n",
      " [4.1 1.3]\n",
      " [4.  1.3]\n",
      " [4.4 1.2]\n",
      " [4.6 1.4]\n",
      " [4.  1.2]\n",
      " [3.3 1. ]\n",
      " [4.2 1.3]\n",
      " [4.2 1.2]\n",
      " [4.2 1.3]\n",
      " [4.3 1.3]\n",
      " [3.  1.1]\n",
      " [4.1 1.3]\n",
      " [6.  2.5]\n",
      " [5.1 1.9]\n",
      " [5.9 2.1]\n",
      " [5.6 1.8]\n",
      " [5.8 2.2]\n",
      " [6.6 2.1]\n",
      " [4.5 1.7]\n",
      " [6.3 1.8]\n",
      " [5.8 1.8]\n",
      " [6.1 2.5]\n",
      " [5.1 2. ]\n",
      " [5.3 1.9]\n",
      " [5.5 2.1]\n",
      " [5.  2. ]\n",
      " [5.1 2.4]\n",
      " [5.3 2.3]\n",
      " [5.5 1.8]\n",
      " [6.7 2.2]\n",
      " [6.9 2.3]\n",
      " [5.  1.5]\n",
      " [5.7 2.3]\n",
      " [4.9 2. ]\n",
      " [6.7 2. ]\n",
      " [4.9 1.8]\n",
      " [5.7 2.1]\n",
      " [6.  1.8]\n",
      " [4.8 1.8]\n",
      " [4.9 1.8]\n",
      " [5.6 2.1]\n",
      " [5.8 1.6]\n",
      " [6.1 1.9]\n",
      " [6.4 2. ]\n",
      " [5.6 2.2]\n",
      " [5.1 1.5]\n",
      " [5.6 1.4]\n",
      " [6.1 2.3]\n",
      " [5.6 2.4]\n",
      " [5.5 1.8]\n",
      " [4.8 1.8]\n",
      " [5.4 2.1]\n",
      " [5.6 2.4]\n",
      " [5.1 2.3]\n",
      " [5.1 1.9]\n",
      " [5.9 2.3]\n",
      " [5.7 2.5]\n",
      " [5.2 2.3]\n",
      " [5.  1.9]\n",
      " [5.2 2. ]\n",
      " [5.4 2.3]\n",
      " [5.1 1.8]]\n"
     ]
    }
   ],
   "source": [
    "X = df.iloc[:,[2,3]].values\n",
    "print(X)"
   ]
  },
  {
   "cell_type": "code",
   "execution_count": 30,
   "metadata": {},
   "outputs": [
    {
     "data": {
      "text/plain": [
       "((149, 2), (149,))"
      ]
     },
     "execution_count": 30,
     "metadata": {},
     "output_type": "execute_result"
    }
   ],
   "source": [
    "X.shape, y.shape"
   ]
  },
  {
   "cell_type": "code",
   "execution_count": 31,
   "metadata": {},
   "outputs": [],
   "source": [
    "from sklearn.model_selection import train_test_split\n",
    "X_train, X_test, y_train, y_test = train_test_split(X, y, test_size=0.2, random_state=1, stratify=y)"
   ]
  },
  {
   "cell_type": "code",
   "execution_count": 32,
   "metadata": {},
   "outputs": [
    {
     "data": {
      "text/plain": [
       "((119, 2), (119,), (30, 2), (30,))"
      ]
     },
     "execution_count": 32,
     "metadata": {},
     "output_type": "execute_result"
    }
   ],
   "source": [
    "X_train.shape, y_train.shape, X_test.shape, y_test.shape"
   ]
  },
  {
   "cell_type": "code",
   "execution_count": 33,
   "metadata": {},
   "outputs": [],
   "source": [
    "from sklearn.preprocessing import StandardScaler\n",
    "\n",
    "sc = StandardScaler()\n",
    "sc.fit(X_train)\n",
    "X_train_std = sc.transform(X_train)\n",
    "X_test_std = sc.transform(X_test)"
   ]
  },
  {
   "cell_type": "code",
   "execution_count": 34,
   "metadata": {},
   "outputs": [
    {
     "data": {
      "text/plain": [
       "array([[-1.59174313, -1.32819288],\n",
       "       [-1.30911491, -1.32819288],\n",
       "       [ 0.72580827,  1.41945116],\n",
       "       [ 0.3866544 ,  0.37272962],\n",
       "       [-0.12207639,  0.11104924],\n",
       "       [ 0.49970569,  0.37272962],\n",
       "       [ 0.55623134,  0.7652502 ],\n",
       "       [ 0.66928262,  0.37272962],\n",
       "       [ 0.95191084,  0.7652502 ],\n",
       "       [ 0.21707747, -0.01979095],\n",
       "       [ 1.06496213,  1.68113155],\n",
       "       [-1.4221662 , -1.32819288],\n",
       "       [ 0.3866544 ,  0.37272962],\n",
       "       [ 0.66928262,  0.63441001],\n",
       "       [ 1.00843649,  0.7652502 ],\n",
       "       [-1.25258927, -1.32819288],\n",
       "       [ 1.12148777,  0.7652502 ],\n",
       "       [ 0.44318005,  0.11104924],\n",
       "       [ 0.21707747,  0.11104924],\n",
       "       [-1.36564055, -1.32819288],\n",
       "       [-1.30911491, -1.32819288],\n",
       "       [ 0.04750054, -0.15063115],\n",
       "       [ 0.49970569,  0.24188943],\n",
       "       [ 0.61275698,  0.7652502 ],\n",
       "       [ 0.72580827,  0.89609039],\n",
       "       [ 1.00843649,  1.28861097],\n",
       "       [-1.30911491, -1.32819288],\n",
       "       [-1.25258927, -1.32819288],\n",
       "       [ 1.00843649,  1.55029135],\n",
       "       [-1.4221662 , -1.19735268],\n",
       "       [-1.30911491, -1.45903307],\n",
       "       [-1.30911491, -1.06651249],\n",
       "       [ 0.16055183, -0.28147134],\n",
       "       [ 1.29106471,  1.41945116],\n",
       "       [-1.30911491, -1.06651249],\n",
       "       [-0.06555075, -0.28147134],\n",
       "       [-0.29165332, -0.28147134],\n",
       "       [ 0.78233391,  1.41945116],\n",
       "       [ 0.66928262,  0.89609039],\n",
       "       [-0.17860203, -0.28147134],\n",
       "       [ 0.44318005,  0.24188943],\n",
       "       [ 0.95191084,  0.7652502 ],\n",
       "       [ 1.29106471,  1.68113155],\n",
       "       [ 1.12148777,  1.28861097],\n",
       "       [ 0.33012876,  0.11104924],\n",
       "       [ 0.72580827,  1.02693058],\n",
       "       [ 0.04750054, -0.01979095],\n",
       "       [ 0.55623134,  0.7652502 ],\n",
       "       [-1.36564055, -1.32819288],\n",
       "       [ 1.23453906,  1.68113155],\n",
       "       [-1.25258927, -1.32819288],\n",
       "       [ 0.72580827,  1.55029135],\n",
       "       [-1.36564055, -1.19735268],\n",
       "       [-1.19606362, -0.9356723 ],\n",
       "       [ 0.49970569, -0.01979095],\n",
       "       [-1.47869184, -1.32819288],\n",
       "       [-0.0090251 , -0.15063115],\n",
       "       [ 1.29106471,  0.89609039],\n",
       "       [-1.47869184, -1.32819288],\n",
       "       [ 1.06496213,  1.41945116],\n",
       "       [-1.4221662 , -1.19735268],\n",
       "       [-1.30911491, -1.19735268],\n",
       "       [ 0.55623134,  0.7652502 ],\n",
       "       [ 1.17801342,  1.41945116],\n",
       "       [-1.25258927, -1.06651249],\n",
       "       [ 0.72580827,  0.50356982],\n",
       "       [-1.25258927, -1.32819288],\n",
       "       [-1.36564055, -1.32819288],\n",
       "       [ 0.10402618, -0.01979095],\n",
       "       [ 1.12148777,  0.50356982],\n",
       "       [ 0.61275698,  0.37272962],\n",
       "       [ 0.33012876,  0.24188943],\n",
       "       [-1.30911491, -1.06651249],\n",
       "       [-1.4221662 , -1.32819288],\n",
       "       [ 0.3866544 ,  0.37272962],\n",
       "       [ 0.83885955,  1.41945116],\n",
       "       [ 0.21707747,  0.11104924],\n",
       "       [ 0.33012876, -0.01979095],\n",
       "       [ 1.06496213,  1.15777078],\n",
       "       [ 0.3866544 ,  0.37272962],\n",
       "       [ 1.46064164,  1.02693058],\n",
       "       [-1.30911491, -1.32819288],\n",
       "       [ 0.3866544 ,  0.50356982],\n",
       "       [ 1.00843649,  1.15777078],\n",
       "       [ 0.16055183,  0.11104924],\n",
       "       [ 0.04750054,  0.24188943],\n",
       "       [-1.30911491, -1.45903307],\n",
       "       [-1.08301234, -1.32819288],\n",
       "       [ 0.72580827,  0.7652502 ],\n",
       "       [ 0.27360312,  0.11104924],\n",
       "       [ 1.63021857,  1.28861097],\n",
       "       [ 0.33012876,  0.24188943],\n",
       "       [-1.36564055, -1.32819288],\n",
       "       [ 0.21707747,  0.37272962],\n",
       "       [ 1.74326986,  1.41945116],\n",
       "       [ 1.23453906,  0.7652502 ],\n",
       "       [-1.19606362, -1.32819288],\n",
       "       [-1.19606362, -1.06651249],\n",
       "       [ 1.57369292,  1.15777078],\n",
       "       [ 0.8953852 ,  1.15777078],\n",
       "       [-1.19606362, -1.19735268],\n",
       "       [ 1.63021857,  1.02693058],\n",
       "       [ 0.61275698,  0.37272962],\n",
       "       [ 0.3866544 ,  0.11104924],\n",
       "       [-0.17860203, -0.28147134],\n",
       "       [ 0.72580827,  0.89609039],\n",
       "       [-1.36564055, -1.32819288],\n",
       "       [ 1.00843649,  0.24188943],\n",
       "       [ 0.16055183,  0.11104924],\n",
       "       [ 1.00843649,  1.55029135],\n",
       "       [-1.30911491, -1.45903307],\n",
       "       [ 0.72580827,  0.37272962],\n",
       "       [-1.25258927, -1.32819288],\n",
       "       [ 0.10402618,  0.11104924],\n",
       "       [-1.4221662 , -1.32819288],\n",
       "       [ 0.49970569,  0.24188943],\n",
       "       [-1.30911491, -1.32819288],\n",
       "       [-1.36564055, -1.32819288],\n",
       "       [-1.25258927, -0.80483211]])"
      ]
     },
     "execution_count": 34,
     "metadata": {},
     "output_type": "execute_result"
    }
   ],
   "source": [
    "X_train_std"
   ]
  },
  {
   "cell_type": "code",
   "execution_count": 35,
   "metadata": {},
   "outputs": [
    {
     "data": {
      "text/plain": [
       "array([[ 1.40411599,  0.7652502 ],\n",
       "       [-1.36564055, -1.45903307],\n",
       "       [-0.46123025, -0.15063115],\n",
       "       [-1.36564055, -1.19735268],\n",
       "       [-1.53521749, -1.45903307],\n",
       "       [-1.36564055, -1.19735268],\n",
       "       [ 0.8953852 ,  1.41945116],\n",
       "       [ 0.83885955,  0.89609039],\n",
       "       [ 0.61275698,  1.02693058],\n",
       "       [ 0.55623134,  0.24188943],\n",
       "       [-1.4221662 , -1.32819288],\n",
       "       [ 0.10402618,  0.11104924],\n",
       "       [ 0.95191084,  1.15777078],\n",
       "       [ 0.10402618, -0.28147134],\n",
       "       [ 0.66928262,  1.02693058],\n",
       "       [-1.36564055, -1.32819288],\n",
       "       [ 1.17801342,  1.15777078],\n",
       "       [ 0.10402618,  0.11104924],\n",
       "       [-0.29165332, -0.28147134],\n",
       "       [ 0.61275698,  0.7652502 ],\n",
       "       [ 0.27360312,  0.11104924],\n",
       "       [ 0.3866544 ,  0.37272962],\n",
       "       [-1.08301234, -1.06651249],\n",
       "       [-1.30911491, -1.32819288],\n",
       "       [ 0.78233391,  1.02693058],\n",
       "       [ 0.3866544 ,  0.63441001],\n",
       "       [-1.4221662 , -1.06651249],\n",
       "       [-1.30911491, -1.45903307],\n",
       "       [ 0.49970569,  0.50356982],\n",
       "       [ 0.44318005,  0.37272962]])"
      ]
     },
     "execution_count": 35,
     "metadata": {},
     "output_type": "execute_result"
    }
   ],
   "source": [
    "X_test_std"
   ]
  },
  {
   "cell_type": "code",
   "execution_count": 61,
   "metadata": {},
   "outputs": [
    {
     "data": {
      "text/plain": [
       "SVC(gamma=0.1, random_state=0)"
      ]
     },
     "execution_count": 61,
     "metadata": {},
     "output_type": "execute_result"
    }
   ],
   "source": [
    "#Applying SVC (Support Vector Classification)\n",
    "from sklearn.svm import SVC\n",
    "\n",
    "svm = SVC(kernel='rbf', random_state=0, gamma=.10, C=1.0)\n",
    "svm.fit(X_train_std, y_train)\n"
   ]
  },
  {
   "cell_type": "code",
   "execution_count": 62,
   "metadata": {},
   "outputs": [],
   "source": [
    "#Applying XGBoost\n",
    "import xgboost as xgb\n",
    "\n",
    "xgb_clf = xgb.XGBClassifier()\n",
    "xgb_clf = xgb_clf.fit(X_train_std, y_train)\n",
    "\n"
   ]
  },
  {
   "cell_type": "code",
   "execution_count": 63,
   "metadata": {},
   "outputs": [
    {
     "data": {
      "text/plain": [
       "KNeighborsClassifier(n_neighbors=7)"
      ]
     },
     "execution_count": 63,
     "metadata": {},
     "output_type": "execute_result"
    }
   ],
   "source": [
    "#Applying Knn\n",
    "from sklearn.neighbors import KNeighborsClassifier\n",
    "\n",
    "knn = KNeighborsClassifier(n_neighbors = 7, p = 2, metric='minkowski')\n",
    "knn.fit(X_train_std, y_train)\n",
    "\n"
   ]
  },
  {
   "cell_type": "code",
   "execution_count": 64,
   "metadata": {},
   "outputs": [
    {
     "data": {
      "text/plain": [
       "DecisionTreeClassifier()"
      ]
     },
     "execution_count": 64,
     "metadata": {},
     "output_type": "execute_result"
    }
   ],
   "source": [
    "#Applying Decision Tree\n",
    "from sklearn import tree\n",
    "\n",
    "#Create tree object\n",
    "decision_tree = tree.DecisionTreeClassifier(criterion='gini')\n",
    "\n",
    "#Train DT based on scaled training set\n",
    "decision_tree.fit(X_train_std, y_train)\n",
    "\n",
    "\n"
   ]
  },
  {
   "cell_type": "code",
   "execution_count": 65,
   "metadata": {},
   "outputs": [
    {
     "data": {
      "text/plain": [
       "RandomForestClassifier()"
      ]
     },
     "execution_count": 65,
     "metadata": {},
     "output_type": "execute_result"
    }
   ],
   "source": [
    "#Applying RandomForest\n",
    "from sklearn.ensemble import RandomForestClassifier\n",
    "\n",
    "#Create Random Forest object\n",
    "random_forest = RandomForestClassifier()\n",
    "\n",
    "#Train model\n",
    "random_forest.fit(X_train_std, y_train)\n",
    "\n",
    "\n"
   ]
  },
  {
   "cell_type": "code",
   "execution_count": 66,
   "metadata": {},
   "outputs": [
    {
     "name": "stdout",
     "output_type": "stream",
     "text": [
      "The accuracy of the performance \n",
      "\n",
      "\n",
      "+++++++++++++++++++++++++++++++++++++++++++++++++++++++\n",
      "\n",
      "The accuracy of the SVM classifier on training data is 0.96\n",
      "The accuracy of the SVM classifier on test data is 0.97\n",
      "\n",
      "+++++++++++++++++++++++++++++++++++++++++++++++++++++++\n",
      "\n",
      "The accuracy of the XGBoost classifier on training data is 0.99\n",
      "The accuracy of the XGBoost classifier on test data is 0.97\n",
      "\n",
      "+++++++++++++++++++++++++++++++++++++++++++++++++++++++\n",
      "\n",
      "The accuracy of the Knn classifier on training data is 0.97\n",
      "The accuracy of the Knn classifier on test data is 0.97\n",
      "\n",
      "+++++++++++++++++++++++++++++++++++++++++++++++++++++++\n",
      "\n",
      "The accuracy of the Decision Tree classifier on training data is 0.99\n",
      "The accuracy of the Decision Tree classifier on test data is 0.97\n",
      "\n",
      "+++++++++++++++++++++++++++++++++++++++++++++++++++++++\n",
      "\n",
      "The accuracy of the Random Forest classifier on training data is 0.99\n",
      "The accuracy of the Random Forest classifier on test data is 0.97\n",
      "\n",
      "+++++++++++++++++++++++++++++++++++++++++++++++++++++++\n",
      "\n"
     ]
    }
   ],
   "source": [
    "#Print performance\n",
    "print ('The accuracy of the performance ')\n",
    "print('')\n",
    "print('')\n",
    "print('+++++++++++++++++++++++++++++++++++++++++++++++++++++++')\n",
    "print('')\n",
    "print('The accuracy of the SVM classifier on training data is {:.2f}'.format(svm.score(X_train_std, y_train)))\n",
    "print('The accuracy of the SVM classifier on test data is {:.2f}'.format(svm.score(X_test_std, y_test)))\n",
    "print('')\n",
    "print('+++++++++++++++++++++++++++++++++++++++++++++++++++++++')\n",
    "print('')\n",
    "print('The accuracy of the XGBoost classifier on training data is {:.2f}'.format(xgb_clf.score(X_train_std, y_train)))\n",
    "print('The accuracy of the XGBoost classifier on test data is {:.2f}'.format(xgb_clf.score(X_test_std, y_test)))\n",
    "print('')\n",
    "print('+++++++++++++++++++++++++++++++++++++++++++++++++++++++')\n",
    "print('')\n",
    "print('The accuracy of the Knn classifier on training data is {:.2f}'.format(knn.score(X_train_std, y_train)))\n",
    "print('The accuracy of the Knn classifier on test data is {:.2f}'.format(knn.score(X_test_std, y_test)))\n",
    "print('')\n",
    "print('+++++++++++++++++++++++++++++++++++++++++++++++++++++++')\n",
    "print('')\n",
    "print('The accuracy of the Decision Tree classifier on training data is {:.2f}'.format(decision_tree.score(X_train_std, y_train)))\n",
    "print('The accuracy of the Decision Tree classifier on test data is {:.2f}'.format(decision_tree.score(X_test_std, y_test)))\n",
    "print('')\n",
    "print('+++++++++++++++++++++++++++++++++++++++++++++++++++++++')\n",
    "print('')\n",
    "print('The accuracy of the Random Forest classifier on training data is {:.2f}'.format(random_forest.score(X_train_std, y_train)))\n",
    "print('The accuracy of the Random Forest classifier on test data is {:.2f}'.format(random_forest.score(X_test_std, y_test)))\n",
    "print('')\n",
    "print('+++++++++++++++++++++++++++++++++++++++++++++++++++++++')\n",
    "print('')"
   ]
  },
  {
   "cell_type": "code",
   "execution_count": 108,
   "metadata": {},
   "outputs": [
    {
     "data": {
      "text/plain": [
       "array(['Iris-virginica', 'Iris-virginica', 'Iris-virginica',\n",
       "       'Iris-virginica', 'Iris-virginica', 'Iris-virginica',\n",
       "       'Iris-virginica', 'Iris-virginica', 'Iris-virginica',\n",
       "       'Iris-virginica', 'Iris-virginica', 'Iris-virginica',\n",
       "       'Iris-virginica', 'Iris-virginica', 'Iris-virginica',\n",
       "       'Iris-virginica', 'Iris-virginica', 'Iris-virginica',\n",
       "       'Iris-virginica', 'Iris-virginica', 'Iris-virginica',\n",
       "       'Iris-virginica', 'Iris-virginica', 'Iris-virginica',\n",
       "       'Iris-virginica', 'Iris-virginica', 'Iris-virginica',\n",
       "       'Iris-virginica', 'Iris-virginica', 'Iris-virginica'], dtype=object)"
      ]
     },
     "execution_count": 108,
     "metadata": {},
     "output_type": "execute_result"
    }
   ],
   "source": [
    "random_forest.predict(X_test)"
   ]
  }
 ],
 "metadata": {
  "kernelspec": {
   "display_name": "Python 3",
   "language": "python",
   "name": "python3"
  },
  "language_info": {
   "codemirror_mode": {
    "name": "ipython",
    "version": 3
   },
   "file_extension": ".py",
   "mimetype": "text/x-python",
   "name": "python",
   "nbconvert_exporter": "python",
   "pygments_lexer": "ipython3",
   "version": "3.8.3"
  }
 },
 "nbformat": 4,
 "nbformat_minor": 4
}
